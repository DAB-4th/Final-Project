{
 "cells": [
  {
   "cell_type": "code",
   "execution_count": 76,
   "id": "c71f0499-6dbd-45a8-98e3-17f327d19b4d",
   "metadata": {},
   "outputs": [],
   "source": [
    "import pandas as pd\n",
    "import geopandas as gpd\n",
    "from shapely import wkt\n",
    "from shapely.geometry import Point\n",
    "df = pd.read_csv(\"chicago crime - 2001~current.csv\", encoding='utf-8', low_memory=False)"
   ]
  },
  {
   "cell_type": "code",
   "execution_count": 77,
   "id": "fd2d6011-411c-4b42-9bc7-ed13dfdd4091",
   "metadata": {},
   "outputs": [
    {
     "data": {
      "text/plain": [
       "ID                           0\n",
       "Case Number                  0\n",
       "Date                         0\n",
       "Block                        0\n",
       "IUCR                         0\n",
       "Primary Type                 0\n",
       "Description                  0\n",
       "Location Description     14099\n",
       "Arrest                       0\n",
       "Domestic                     0\n",
       "Beat                         0\n",
       "District                    47\n",
       "Ward                    614826\n",
       "Community Area          613453\n",
       "FBI Code                     0\n",
       "X Coordinate             91682\n",
       "Y Coordinate             91682\n",
       "Year                         0\n",
       "Updated On                   0\n",
       "Latitude                 91682\n",
       "Longitude                91682\n",
       "Location                 91682\n",
       "dtype: int64"
      ]
     },
     "execution_count": 77,
     "metadata": {},
     "output_type": "execute_result"
    }
   ],
   "source": [
    "df.isna().sum()"
   ]
  },
  {
   "cell_type": "code",
   "execution_count": 78,
   "id": "15af5b23-b330-43af-812f-2a7ef3544c45",
   "metadata": {},
   "outputs": [],
   "source": [
    "df = df.dropna(subset=['X Coordinate','Y Coordinate','Latitude', 'Longitude', 'Location'])"
   ]
  },
  {
   "cell_type": "code",
   "execution_count": 11,
   "id": "3d50d172-84d3-4ac6-a379-65e67c9131e4",
   "metadata": {},
   "outputs": [
    {
     "data": {
      "text/plain": [
       "ID                           0\n",
       "Case Number                  0\n",
       "Date                         0\n",
       "Block                        0\n",
       "IUCR                         0\n",
       "Primary Type                 0\n",
       "Description                  0\n",
       "Location Description      9097\n",
       "Arrest                       0\n",
       "Domestic                     0\n",
       "Beat                         0\n",
       "District                    47\n",
       "Ward                    605573\n",
       "Community Area          604251\n",
       "FBI Code                     0\n",
       "X Coordinate                 0\n",
       "Y Coordinate                 0\n",
       "Year                         0\n",
       "Updated On                   0\n",
       "Latitude                     0\n",
       "Longitude                    0\n",
       "Location                     0\n",
       "dtype: int64"
      ]
     },
     "execution_count": 11,
     "metadata": {},
     "output_type": "execute_result"
    }
   ],
   "source": [
    "df.isna().sum()"
   ]
  },
  {
   "cell_type": "code",
   "execution_count": 7,
   "id": "38c77316-a37f-492d-95ed-280f7665cfda",
   "metadata": {},
   "outputs": [
    {
     "data": {
      "text/plain": [
       "3          09/06/2023 05:00:00 PM\n",
       "4          09/06/2023 11:00:00 AM\n",
       "5          05/21/2019 08:20:00 AM\n",
       "6          07/07/2021 10:30:00 AM\n",
       "7          06/14/2022 02:47:00 PM\n",
       "                    ...          \n",
       "8280637    03/16/2025 12:36:00 PM\n",
       "8280638    03/16/2025 11:00:00 PM\n",
       "8280639    03/16/2025 08:44:00 PM\n",
       "8280640    03/16/2025 03:45:00 PM\n",
       "8280641    03/16/2025 09:44:00 AM\n",
       "Name: Date, Length: 8188960, dtype: object"
      ]
     },
     "execution_count": 7,
     "metadata": {},
     "output_type": "execute_result"
    }
   ],
   "source": [
    "df['Date']"
   ]
  },
  {
   "cell_type": "code",
   "execution_count": 12,
   "id": "1821251b-6cd0-49c0-a8f9-05b2799fbff5",
   "metadata": {},
   "outputs": [],
   "source": [
    "df['Date'] = pd.to_datetime(df['Date'], format=\"%m/%d/%Y %I:%M:%S %p\", errors='coerce')"
   ]
  },
  {
   "cell_type": "code",
   "execution_count": 13,
   "id": "c3212cac-bf39-4698-9514-9ba179db3955",
   "metadata": {},
   "outputs": [],
   "source": [
    "# 시기 기준으로 나누기\n",
    "df_2001_2015 = df[df['Date'].dt.year <= 2015]\n",
    "df_2016_2022 = df[(df['Date'].dt.year > 2015) & (df['Date'].dt.year < 2023)]\n",
    "df_2023 = df[df['Date'].dt.year >= 2023]\n",
    "\n",
    "# 파일로 저장 \n",
    "df_2001_2015.to_csv(\"crime_2001_2015.csv\", index=False)\n",
    "df_2016_2022.to_csv(\"crime_2016_2022.csv\", index=False)\n",
    "df_2023.to_csv(\"crime_2023.csv\", index=False)"
   ]
  },
  {
   "cell_type": "code",
   "execution_count": 14,
   "id": "d6613936-f59e-4d6e-be2d-f64067212c9f",
   "metadata": {},
   "outputs": [],
   "source": [
    "def load_ward_gdf(csv_path, ward_col='WARD'):\n",
    "    df = pd.read_csv(csv_path)\n",
    "    df = df[df[ward_col].notna()]              # NA 제거\n",
    "    df = df[df[ward_col] != 'OUT']             # 'OUT' 제거\n",
    "    df[ward_col] = df[ward_col].astype(float)  # float형 변환\n",
    "    df['geometry'] = df['the_geom'].apply(wkt.loads)\n",
    "    return gpd.GeoDataFrame(df, geometry='geometry', crs='EPSG:4326')"
   ]
  },
  {
   "cell_type": "code",
   "execution_count": 15,
   "id": "e4e48d58-f715-4278-99df-6065331bda35",
   "metadata": {},
   "outputs": [],
   "source": [
    "df = pd.read_csv(\"crime_2001_2015.csv\")\n",
    "df['geometry'] = gpd.points_from_xy(df['Longitude'], df['Latitude'])\n",
    "crime_gdf = gpd.GeoDataFrame(df, geometry='geometry', crs='EPSG:4326')\n",
    "ward1 = load_ward_gdf(\"Boundaries - Wards (2003-2015).csv\")\n",
    "joined = gpd.sjoin(crime_gdf, ward_gdf[['WARD', 'geometry']], how='left', predicate='within')\n",
    "joined['Ward'] = joined['Ward'].fillna(joined['WARD'])  \n",
    "joined.drop(columns=['WARD', 'index_right'], inplace=True)\n",
    "joined.to_csv(\"crime_2001_2015_filled.csv\", index=False)"
   ]
  },
  {
   "cell_type": "code",
   "execution_count": 16,
   "id": "e653cf20-49b8-4d64-b42d-4f81418a5c3a",
   "metadata": {},
   "outputs": [],
   "source": [
    "df2 = pd.read_csv(\"crime_2016_2022.csv\")\n",
    "df2['geometry'] = gpd.points_from_xy(df2['Longitude'], df2['Latitude'])\n",
    "gdf2 = gpd.GeoDataFrame(df2, geometry='geometry', crs='EPSG:4326')\n",
    "ward2 = load_ward_gdf(\"Boundaries - Wards (2015-2023).csv\")\n",
    "joined2 = gpd.sjoin(gdf2, ward2[['WARD', 'geometry']], how='left', predicate='within')\n",
    "joined2['Ward'] = joined2['Ward'].fillna(joined2['WARD'])\n",
    "joined2.drop(columns=['WARD', 'index_right'], inplace=True)\n",
    "joined2.to_csv(\"crime_2016_2022_filled.csv\", index=False)"
   ]
  },
  {
   "cell_type": "code",
   "execution_count": 17,
   "id": "c803b239-c7eb-4c11-b314-c6c18c11c9ce",
   "metadata": {},
   "outputs": [],
   "source": [
    "df3 = pd.read_csv(\"crime_2023.csv\")\n",
    "df3['geometry'] = gpd.points_from_xy(df3['Longitude'], df3['Latitude'])\n",
    "gdf3 = gpd.GeoDataFrame(df3, geometry='geometry', crs='EPSG:4326')\n",
    "ward3 = load_ward_gdf(\"Boundaries - Wards (2023-).csv\", ward_col='ward_id')  \n",
    "joined3 = gpd.sjoin(gdf3, ward3[['ward_id', 'geometry']], how='left', predicate='within')\n",
    "joined3['Ward'] = joined3['Ward'].fillna(joined3['ward_id'])\n",
    "joined3.drop(columns=['ward_id', 'index_right'], inplace=True)\n",
    "joined3.to_csv(\"crime_2023_filled.csv\", index=False)"
   ]
  },
  {
   "cell_type": "code",
   "execution_count": 18,
   "id": "6b039cb4-f0ab-4064-8322-1a28a47beb55",
   "metadata": {},
   "outputs": [],
   "source": [
    "# 1. 시기별 파일 불러오기\n",
    "df1 = pd.read_csv(\"crime_2001_2015_filled.csv\")\n",
    "df2 = pd.read_csv(\"crime_2016_2022_filled.csv\")\n",
    "df3 = pd.read_csv(\"crime_2023_filled.csv\")\n",
    "# 2. 하나로 합치기\n",
    "df_all = pd.concat([df1, df2, df3], ignore_index=True)\n",
    "# 3. 저장\n",
    "df_all.to_csv(\"crime_all_filled.csv\", index=False)"
   ]
  },
  {
   "cell_type": "code",
   "execution_count": 39,
   "id": "e4c05189-1578-47b4-be58-209ee5460e41",
   "metadata": {},
   "outputs": [
    {
     "name": "stdout",
     "output_type": "stream",
     "text": [
      "                        Date         Primary Type   Latitude  Longitude  Ward\n",
      "2225729  2005-10-21 12:20:00            NARCOTICS  41.778563 -87.684844  15.0\n",
      "5912555  2015-09-10 14:20:00                THEFT  41.843474 -87.724529  22.0\n",
      "6156869  2016-10-04 11:30:00   DECEPTIVE PRACTICE  41.767372 -87.690653  18.0\n",
      "540481   2001-12-20 19:50:00              ASSAULT  41.728817 -87.569583   7.0\n",
      "622369   2002-03-07 13:20:00                THEFT  41.856044 -87.662268  25.0\n",
      "4176776  2010-09-02 15:15:00  MOTOR VEHICLE THEFT  41.796278 -87.702253  14.0\n",
      "997165   2003-02-11 05:00:00             BURGLARY  41.886906 -87.716071  28.0\n",
      "2274281  2005-12-17 15:00:00             BURGLARY  41.816090 -87.616779   3.0\n",
      "474499   2001-11-27 18:00:00                THEFT  41.936415 -87.756757  31.0\n",
      "5446151  2014-05-09 01:00:00              ROBBERY  41.943948 -87.649387  44.0\n"
     ]
    }
   ],
   "source": [
    "# 최종 병합된 파일 로드\n",
    "df = pd.read_csv(\"crime_all_filled.csv\")\n",
    "# 10개 샘플만 보기\n",
    "print(df[['Date', 'Primary Type', 'Latitude', 'Longitude', 'Ward']].sample(10))"
   ]
  },
  {
   "cell_type": "code",
   "execution_count": 21,
   "id": "79255afc-c98a-4dd3-aa05-1a5e9f229f1b",
   "metadata": {},
   "outputs": [
    {
     "name": "stdout",
     "output_type": "stream",
     "text": [
      "['ID', 'Case Number', 'Date', 'Block', 'IUCR', 'Primary Type', 'Description', 'Location Description', 'Arrest', 'Domestic', 'Beat', 'District', 'Ward', 'Community Area', 'FBI Code', 'X Coordinate', 'Y Coordinate', 'Year', 'Updated On', 'Latitude', 'Longitude', 'Location', 'geometry']\n"
     ]
    }
   ],
   "source": [
    "print(df.columns.tolist())"
   ]
  },
  {
   "cell_type": "code",
   "execution_count": 28,
   "id": "f0cf3332-c679-46a3-b0d5-5b64d7b0f335",
   "metadata": {},
   "outputs": [
    {
     "data": {
      "text/plain": [
       "ID                           0\n",
       "Case Number                  0\n",
       "Date                         0\n",
       "Block                        0\n",
       "IUCR                         0\n",
       "Primary Type                 0\n",
       "Description                  0\n",
       "Location Description      9097\n",
       "Arrest                       0\n",
       "Domestic                     0\n",
       "Beat                         0\n",
       "District                    47\n",
       "Ward                       616\n",
       "Community Area          604339\n",
       "FBI Code                     0\n",
       "X Coordinate                 0\n",
       "Y Coordinate                 0\n",
       "Year                         0\n",
       "Updated On                   0\n",
       "Latitude                     0\n",
       "Longitude                    0\n",
       "Location                     0\n",
       "geometry                     0\n",
       "dtype: int64"
      ]
     },
     "execution_count": 28,
     "metadata": {},
     "output_type": "execute_result"
    }
   ],
   "source": [
    "df.isna().sum()"
   ]
  },
  {
   "cell_type": "code",
   "execution_count": 29,
   "id": "d40c27b3-31a7-4a25-af2b-ee432c46f531",
   "metadata": {},
   "outputs": [
    {
     "data": {
      "text/plain": [
       "(8190154, 23)"
      ]
     },
     "execution_count": 29,
     "metadata": {},
     "output_type": "execute_result"
    }
   ],
   "source": [
    "df.shape"
   ]
  },
  {
   "cell_type": "code",
   "execution_count": 23,
   "id": "3d03b8cf-3add-4797-81b5-d5e91862b3bb",
   "metadata": {},
   "outputs": [
    {
     "name": "stdout",
     "output_type": "stream",
     "text": [
      "[49. 53. 11. 71. 23.  2. 43. 65. 46. 44. 42.  1. 68. 19.  3. 58. 66. 27.\n",
      " 74. 61. 75. 69. 21. 56. 38. 54. 51. 48. 24. 52. 45. nan 29. 32. 26. 30.\n",
      " 67. 70. 57. 50. 12. 35. 41. 55.  8. 22. 25. 28. 40. 72. 73.  6. 36. 47.\n",
      " 39. 77.  7. 15. 34. 16. 14. 31. 63.  9. 62. 17. 59. 10. 20. 60. 64. 76.\n",
      " 13.  5.  4. 18. 33. 37.  0.]\n"
     ]
    }
   ],
   "source": [
    "print(df['Community Area'].unique())"
   ]
  },
  {
   "cell_type": "code",
   "execution_count": 40,
   "id": "da2d269c-2fb3-4f9f-9e9d-5c638bf9bfe9",
   "metadata": {},
   "outputs": [
    {
     "data": {
      "text/plain": [
       "69"
      ]
     },
     "execution_count": 40,
     "metadata": {},
     "output_type": "execute_result"
    }
   ],
   "source": [
    "(df['Community Area'] == 0).sum()"
   ]
  },
  {
   "cell_type": "code",
   "execution_count": 41,
   "id": "0648c3a0-704c-4d0d-86ff-aee23679ed06",
   "metadata": {},
   "outputs": [],
   "source": [
    "df['Community Area'] = df['Community Area'].replace(0, pd.NA)"
   ]
  },
  {
   "cell_type": "code",
   "execution_count": 42,
   "id": "a577fe69-d67f-4ecc-aa4b-34323e6679eb",
   "metadata": {},
   "outputs": [
    {
     "name": "stderr",
     "output_type": "stream",
     "text": [
      "C:\\Users\\qhwhr\\AppData\\Local\\Temp\\ipykernel_18572\\2532815932.py:11: FutureWarning: Downcasting object dtype arrays on .fillna, .ffill, .bfill is deprecated and will change in a future version. Call result.infer_objects(copy=False) instead. To opt-in to the future behavior, set `pd.set_option('future.no_silent_downcasting', True)`\n",
      "  joined['Community Area'] = joined['Community Area'].fillna(joined['Area_Num']).astype(float)\n"
     ]
    }
   ],
   "source": [
    "area_df = pd.read_csv(\"Boundaries - Community Areas (current).csv\")\n",
    "area_df = area_df[area_df['AREA_NUMBE'].notna()]\n",
    "area_df['AREA_NUMBE'] = area_df['AREA_NUMBE'].astype(float)\n",
    "area_df['geometry'] = area_df['the_geom'].apply(wkt.loads)\n",
    "area_gdf = gpd.GeoDataFrame(area_df, geometry='geometry', crs='EPSG:4326')\n",
    "area_gdf = area_gdf[['AREA_NUMBE', 'geometry']].rename(columns={'AREA_NUMBE': 'Area_Num'})\n",
    "df = df.reset_index()\n",
    "df['geometry'] = gpd.points_from_xy(df['Longitude'], df['Latitude'])\n",
    "crime_gdf = gpd.GeoDataFrame(df, geometry='geometry', crs='EPSG:4326')\n",
    "joined = gpd.sjoin(crime_gdf, area_gdf, how='left', predicate='within')\n",
    "joined['Community Area'] = joined['Community Area'].fillna(joined['Area_Num']).astype(float)\n",
    "joined.drop(columns=['Area_Num', 'index_right'], inplace=True)\n",
    "joined.to_csv(\"crime_final2.csv\", index=False)"
   ]
  },
  {
   "cell_type": "code",
   "execution_count": 43,
   "id": "5b1a21db-304c-4a45-b9f0-97be116e1a66",
   "metadata": {},
   "outputs": [
    {
     "name": "stdout",
     "output_type": "stream",
     "text": [
      "결측치 수: 497\n",
      "유니크 값: [1.0, 2.0, 3.0, 4.0, 5.0, 6.0, 7.0, 8.0, 9.0, 10.0, 11.0, 12.0, 13.0, 14.0, 15.0, 16.0, 17.0, 18.0, 19.0, 20.0, 21.0, 22.0, 23.0, 24.0, 25.0, 26.0, 27.0, 28.0, 29.0, 30.0, 31.0, 32.0, 33.0, 34.0, 35.0, 36.0, 37.0, 38.0, 39.0, 40.0, 41.0, 42.0, 43.0, 44.0, 45.0, 46.0, 47.0, 48.0, 49.0, 50.0, 51.0, 52.0, 53.0, 54.0, 55.0, 56.0, 57.0, 58.0, 59.0, 60.0, 61.0, 62.0, 63.0, 64.0, 65.0, 66.0, 67.0, 68.0, 69.0, 70.0, 71.0, 72.0, 73.0, 74.0, 75.0, 76.0, 77.0]\n"
     ]
    }
   ],
   "source": [
    "df = pd.read_csv(\"crime_final2.csv\")\n",
    "\n",
    "# Community Area 결측치 확인\n",
    "print(\"결측치 수:\", df['Community Area'].isna().sum())\n",
    "\n",
    "# 어떤 값들이 있는지 유니크하게 확인\n",
    "print(\"유니크 값:\", sorted(df['Community Area'].dropna().unique()))"
   ]
  },
  {
   "cell_type": "code",
   "execution_count": 44,
   "id": "806c18f1-a83f-43b8-8fc7-78dbccf534c1",
   "metadata": {},
   "outputs": [
    {
     "data": {
      "text/plain": [
       "index                      0\n",
       "ID                         0\n",
       "Case Number                0\n",
       "Date                       0\n",
       "Block                      0\n",
       "IUCR                       0\n",
       "Primary Type               0\n",
       "Description                0\n",
       "Location Description    9097\n",
       "Arrest                     0\n",
       "Domestic                   0\n",
       "Beat                       0\n",
       "District                  47\n",
       "Ward                     616\n",
       "Community Area           497\n",
       "FBI Code                   0\n",
       "X Coordinate               0\n",
       "Y Coordinate               0\n",
       "Year                       0\n",
       "Updated On                 0\n",
       "Latitude                   0\n",
       "Longitude                  0\n",
       "Location                   0\n",
       "geometry                   0\n",
       "dtype: int64"
      ]
     },
     "execution_count": 44,
     "metadata": {},
     "output_type": "execute_result"
    }
   ],
   "source": [
    "df.isna().sum()"
   ]
  },
  {
   "cell_type": "code",
   "execution_count": 45,
   "id": "1fe4abd1-93ae-4662-866d-15f454129708",
   "metadata": {},
   "outputs": [],
   "source": [
    "df = df.dropna(subset=['Ward', 'Community Area', 'District'])"
   ]
  },
  {
   "cell_type": "code",
   "execution_count": 46,
   "id": "9a3765f3-ea4a-4c08-a3c1-631bf2b24e04",
   "metadata": {},
   "outputs": [
    {
     "data": {
      "text/plain": [
       "index                      0\n",
       "ID                         0\n",
       "Case Number                0\n",
       "Date                       0\n",
       "Block                      0\n",
       "IUCR                       0\n",
       "Primary Type               0\n",
       "Description                0\n",
       "Location Description    9097\n",
       "Arrest                     0\n",
       "Domestic                   0\n",
       "Beat                       0\n",
       "District                   0\n",
       "Ward                       0\n",
       "Community Area             0\n",
       "FBI Code                   0\n",
       "X Coordinate               0\n",
       "Y Coordinate               0\n",
       "Year                       0\n",
       "Updated On                 0\n",
       "Latitude                   0\n",
       "Longitude                  0\n",
       "Location                   0\n",
       "geometry                   0\n",
       "dtype: int64"
      ]
     },
     "execution_count": 46,
     "metadata": {},
     "output_type": "execute_result"
    }
   ],
   "source": [
    "df.isna().sum()"
   ]
  },
  {
   "cell_type": "code",
   "execution_count": 47,
   "id": "ab41ee32-3b7a-4671-9d5c-a6821a65b301",
   "metadata": {},
   "outputs": [],
   "source": [
    "# 매핑 딕셔너리\n",
    "community_area_map = {\n",
    "    1: 'Rogers Park', 2: 'West Ridge', 3: 'Uptown', 4: 'Lincoln Square',\n",
    "    5: 'North Center', 6: 'Lake View', 7: 'Lincoln Park', 8: 'Near North Side',\n",
    "    9: 'Edison Park', 10: 'Norwood Park', 11: 'Jefferson Park', 12: 'Forest Glen',\n",
    "    13: 'North Park', 14: 'Albany Park', 15: 'Portage Park', 16: 'Irving Park',\n",
    "    17: 'Dunning', 18: 'Montclare', 19: 'Belmont Cragin', 20: 'Hermosa',\n",
    "    21: 'Avondale', 22: 'Logan Square', 23: 'Humboldt Park', 24: 'West Town',\n",
    "    25: 'Austin', 26: 'West Garfield Park', 27: 'East Garfield Park',\n",
    "    28: 'Near West Side', 29: 'North Lawndale', 30: 'South Lawndale',\n",
    "    31: 'Lower West Side', 32: 'Loop', 33: 'Near South Side', 34: 'Armour Square',\n",
    "    35: 'Douglas', 36: 'Oakland', 37: 'Fuller Park', 38: 'Grand Boulevard',\n",
    "    39: 'Kenwood', 40: 'Washington Park', 41: 'Hyde Park', 42: 'Woodlawn',\n",
    "    43: 'South Shore', 44: 'Chatham', 45: 'Avalon Park', 46: 'South Chicago',\n",
    "    47: 'Burnside', 48: 'Calumet Heights', 49: 'Roseland', 50: 'Pullman',\n",
    "    51: 'South Deering', 52: 'East Side', 53: 'West Pullman', 54: 'Riverdale',\n",
    "    55: 'Hegewisch', 56: 'Garfield Ridge', 57: 'Archer Heights',\n",
    "    58: 'Brighton Park', 59: 'McKinley Park', 60: 'Bridgeport',\n",
    "    61: 'New City', 62: 'West Elsdon', 63: 'Gage Park', 64: 'Clearing',\n",
    "    65: 'West Lawn', 66: 'Chicago Lawn', 67: 'West Englewood',\n",
    "    68: 'Englewood', 69: 'Greater Grand Crossing', 70: 'Ashburn',\n",
    "    71: 'Auburn Gresham', 72: 'Beverly', 73: 'Washington Heights',\n",
    "    74: 'Mount Greenwood', 75: 'Morgan Park', 76: 'O\\'Hare', 77: 'Edgewater'\n",
    "}\n",
    "\n",
    "# 매핑 적용\n",
    "df['Community Area Name'] = df['Community Area'].map(lambda x: community_area_map.get(int(x)) if pd.notna(x) else None)\n"
   ]
  },
  {
   "cell_type": "code",
   "execution_count": 48,
   "id": "01a48186-c601-426f-a8de-ffe725358dd0",
   "metadata": {
    "scrolled": true
   },
   "outputs": [
    {
     "name": "stdout",
     "output_type": "stream",
     "text": [
      "<class 'pandas.core.frame.DataFrame'>\n",
      "Index: 8189480 entries, 0 to 8190153\n",
      "Data columns (total 25 columns):\n",
      " #   Column                Dtype  \n",
      "---  ------                -----  \n",
      " 0   index                 int64  \n",
      " 1   ID                    int64  \n",
      " 2   Case Number           object \n",
      " 3   Date                  object \n",
      " 4   Block                 object \n",
      " 5   IUCR                  object \n",
      " 6   Primary Type          object \n",
      " 7   Description           object \n",
      " 8   Location Description  object \n",
      " 9   Arrest                bool   \n",
      " 10  Domestic              bool   \n",
      " 11  Beat                  int64  \n",
      " 12  District              float64\n",
      " 13  Ward                  float64\n",
      " 14  Community Area        float64\n",
      " 15  FBI Code              object \n",
      " 16  X Coordinate          float64\n",
      " 17  Y Coordinate          float64\n",
      " 18  Year                  int64  \n",
      " 19  Updated On            object \n",
      " 20  Latitude              float64\n",
      " 21  Longitude             float64\n",
      " 22  Location              object \n",
      " 23  geometry              object \n",
      " 24  Community Area Name   object \n",
      "dtypes: bool(2), float64(7), int64(4), object(12)\n",
      "memory usage: 1.5+ GB\n"
     ]
    }
   ],
   "source": [
    "df.info()"
   ]
  },
  {
   "cell_type": "code",
   "execution_count": 49,
   "id": "c3f05f78-cf7d-481c-a7b5-15e56fe636e3",
   "metadata": {},
   "outputs": [
    {
     "name": "stdout",
     "output_type": "stream",
     "text": [
      "             F_Date      Time\n",
      "0        2008-05-17  18:00:00\n",
      "1        2008-05-27  01:00:00\n",
      "2        2008-08-05  22:37:00\n",
      "3        2008-12-27  20:00:00\n",
      "4        2010-11-19  09:00:00\n",
      "...             ...       ...\n",
      "8190149  2025-03-16  12:36:00\n",
      "8190150  2025-03-16  23:00:00\n",
      "8190151  2025-03-16  20:44:00\n",
      "8190152  2025-03-16  15:45:00\n",
      "8190153  2025-03-16  09:44:00\n",
      "\n",
      "[8189480 rows x 2 columns]\n"
     ]
    }
   ],
   "source": [
    "# Date 컬럼의 형식 object(문자열) 확인 -> 형식 변환\n",
    "df['Date'] = pd.to_datetime(df['Date'], format=\"%Y-%m-%d %H:%M:%S\", errors='coerce')\n",
    "# 날짜(Date)와 시간(Time) 나누기\n",
    "df['F_Date'] = df['Date'].dt.strftime('%Y-%m-%d')\n",
    "df['Time'] = df['Date'].dt.strftime('%H:%M:%S')\n",
    "\n",
    "# 결과 출력\n",
    "print(df[['F_Date', 'Time']])"
   ]
  },
  {
   "cell_type": "code",
   "execution_count": 59,
   "id": "30e8b54e-0b8a-4988-b59e-5e07fffb2fa2",
   "metadata": {},
   "outputs": [
    {
     "name": "stdout",
     "output_type": "stream",
     "text": [
      "Year\n",
      "2001     43\n",
      "2002    196\n",
      "2003    232\n",
      "2004    228\n",
      "2005    162\n",
      "2006    257\n",
      "2007    207\n",
      "2008    254\n",
      "2009    195\n",
      "2010    174\n",
      "2011    198\n",
      "2012    245\n",
      "2013    167\n",
      "2014    148\n",
      "2015    212\n",
      "2016     64\n",
      "2017     86\n",
      "2018     48\n",
      "2019     36\n",
      "2020     54\n",
      "2021     63\n",
      "2022     92\n",
      "2023     44\n",
      "2024     55\n",
      "2025      8\n",
      "Name: count, dtype: int64\n"
     ]
    },
    {
     "name": "stderr",
     "output_type": "stream",
     "text": [
      "C:\\Users\\qhwhr\\AppData\\Local\\Temp\\ipykernel_18572\\1526134366.py:8: SettingWithCopyWarning: \n",
      "A value is trying to be set on a copy of a slice from a DataFrame.\n",
      "Try using .loc[row_indexer,col_indexer] = value instead\n",
      "\n",
      "See the caveats in the documentation: https://pandas.pydata.org/pandas-docs/stable/user_guide/indexing.html#returning-a-view-versus-a-copy\n",
      "  dupes['Year'] = dupes['Date'].dt.year\n"
     ]
    }
   ],
   "source": [
    "# 먼저 datetime으로 변환 (Date가 object인 경우)\n",
    "df['Date'] = pd.to_datetime(df['Date'], errors='coerce')\n",
    "\n",
    "# 중복된 Case Number만 추출\n",
    "dupes = df[df.duplicated(subset=['Case Number'], keep=False)]\n",
    "\n",
    "# 중복된 행들 중 연도만 추출\n",
    "dupes['Year'] = dupes['Date'].dt.year\n",
    "\n",
    "# 연도별 중복 수 세기\n",
    "dupe_counts_by_year = dupes['Year'].value_counts().sort_index()\n",
    "\n",
    "# 결과 출력\n",
    "print(dupe_counts_by_year)"
   ]
  },
  {
   "cell_type": "code",
   "execution_count": 69,
   "id": "ddcac2f4-a795-4d0d-a2b9-c6472894a817",
   "metadata": {},
   "outputs": [
    {
     "name": "stdout",
     "output_type": "stream",
     "text": [
      "Series([], Name: count, dtype: int64)\n"
     ]
    },
    {
     "name": "stderr",
     "output_type": "stream",
     "text": [
      "C:\\Users\\qhwhr\\AppData\\Local\\Temp\\ipykernel_18572\\4119679480.py:2: SettingWithCopyWarning: \n",
      "A value is trying to be set on a copy of a slice from a DataFrame.\n",
      "Try using .loc[row_indexer,col_indexer] = value instead\n",
      "\n",
      "See the caveats in the documentation: https://pandas.pydata.org/pandas-docs/stable/user_guide/indexing.html#returning-a-view-versus-a-copy\n",
      "  df_unique['Date'] = pd.to_datetime(df_unique['Date'], errors='coerce')\n"
     ]
    }
   ],
   "source": [
    "# 먼저 datetime으로 변환 (Date가 object인 경우)\n",
    "df_unique['Date'] = pd.to_datetime(df_unique['Date'], errors='coerce')\n",
    "\n",
    "# 중복된 Case Number만 추출\n",
    "dupes = df_unique[df_unique.duplicated(subset=['Case Number'], keep=False)]\n",
    "\n",
    "# 중복된 행들 중 연도만 추출\n",
    "dupes['Year'] = dupes['Date'].dt.year\n",
    "\n",
    "# 연도별 중복 수 세기\n",
    "dupe_counts_by_year = dupes['Year'].value_counts().sort_index()\n",
    "\n",
    "# 결과 출력\n",
    "print(dupe_counts_by_year)"
   ]
  },
  {
   "cell_type": "code",
   "execution_count": 66,
   "id": "ef8bf00b-f412-4af0-838a-847eb5715b9e",
   "metadata": {},
   "outputs": [
    {
     "data": {
      "text/html": [
       "<div>\n",
       "<style scoped>\n",
       "    .dataframe tbody tr th:only-of-type {\n",
       "        vertical-align: middle;\n",
       "    }\n",
       "\n",
       "    .dataframe tbody tr th {\n",
       "        vertical-align: top;\n",
       "    }\n",
       "\n",
       "    .dataframe thead th {\n",
       "        text-align: right;\n",
       "    }\n",
       "</style>\n",
       "<table border=\"1\" class=\"dataframe\">\n",
       "  <thead>\n",
       "    <tr style=\"text-align: right;\">\n",
       "      <th></th>\n",
       "      <th>index</th>\n",
       "      <th>ID</th>\n",
       "      <th>Case Number</th>\n",
       "      <th>Date</th>\n",
       "      <th>Block</th>\n",
       "      <th>IUCR</th>\n",
       "      <th>Primary Type</th>\n",
       "      <th>Description</th>\n",
       "      <th>Location Description</th>\n",
       "      <th>Arrest</th>\n",
       "      <th>...</th>\n",
       "      <th>Y Coordinate</th>\n",
       "      <th>Year</th>\n",
       "      <th>Updated On</th>\n",
       "      <th>Latitude</th>\n",
       "      <th>Longitude</th>\n",
       "      <th>Location</th>\n",
       "      <th>geometry</th>\n",
       "      <th>Community Area Name</th>\n",
       "      <th>F_Date</th>\n",
       "      <th>Time</th>\n",
       "    </tr>\n",
       "  </thead>\n",
       "  <tbody>\n",
       "    <tr>\n",
       "      <th>100961</th>\n",
       "      <td>100961</td>\n",
       "      <td>650</td>\n",
       "      <td>G023235</td>\n",
       "      <td>2001-01-11 18:46:00</td>\n",
       "      <td>101XX S LASALLE ST</td>\n",
       "      <td>0110</td>\n",
       "      <td>HOMICIDE</td>\n",
       "      <td>FIRST DEGREE MURDER</td>\n",
       "      <td>STREET</td>\n",
       "      <td>True</td>\n",
       "      <td>...</td>\n",
       "      <td>1837772.0</td>\n",
       "      <td>2001</td>\n",
       "      <td>09/19/2022 03:41:05 PM</td>\n",
       "      <td>41.710181</td>\n",
       "      <td>-87.627189</td>\n",
       "      <td>(41.710180828, -87.627189271)</td>\n",
       "      <td>POINT (-87.627189271 41.710180828)</td>\n",
       "      <td>Roseland</td>\n",
       "      <td>2001-01-11</td>\n",
       "      <td>18:46:00</td>\n",
       "    </tr>\n",
       "    <tr>\n",
       "      <th>69208</th>\n",
       "      <td>69208</td>\n",
       "      <td>651</td>\n",
       "      <td>G023235</td>\n",
       "      <td>2001-01-11 21:10:00</td>\n",
       "      <td>101XX S LASALLE ST</td>\n",
       "      <td>0110</td>\n",
       "      <td>HOMICIDE</td>\n",
       "      <td>FIRST DEGREE MURDER</td>\n",
       "      <td>STREET</td>\n",
       "      <td>True</td>\n",
       "      <td>...</td>\n",
       "      <td>1837772.0</td>\n",
       "      <td>2001</td>\n",
       "      <td>09/19/2022 03:41:05 PM</td>\n",
       "      <td>41.710181</td>\n",
       "      <td>-87.627189</td>\n",
       "      <td>(41.710180828, -87.627189271)</td>\n",
       "      <td>POINT (-87.627189271 41.710180828)</td>\n",
       "      <td>Roseland</td>\n",
       "      <td>2001-01-11</td>\n",
       "      <td>21:10:00</td>\n",
       "    </tr>\n",
       "    <tr>\n",
       "      <th>95696</th>\n",
       "      <td>95696</td>\n",
       "      <td>682</td>\n",
       "      <td>G083440</td>\n",
       "      <td>2001-02-09 23:40:00</td>\n",
       "      <td>046XX S LAWLER AVE</td>\n",
       "      <td>0110</td>\n",
       "      <td>HOMICIDE</td>\n",
       "      <td>FIRST DEGREE MURDER</td>\n",
       "      <td>TRUCK</td>\n",
       "      <td>False</td>\n",
       "      <td>...</td>\n",
       "      <td>1873484.0</td>\n",
       "      <td>2001</td>\n",
       "      <td>09/19/2022 03:41:05 PM</td>\n",
       "      <td>41.808871</td>\n",
       "      <td>-87.749308</td>\n",
       "      <td>(41.808871048, -87.749307968)</td>\n",
       "      <td>POINT (-87.749307968 41.808871048)</td>\n",
       "      <td>Garfield Ridge</td>\n",
       "      <td>2001-02-09</td>\n",
       "      <td>23:40:00</td>\n",
       "    </tr>\n",
       "    <tr>\n",
       "      <th>131236</th>\n",
       "      <td>131236</td>\n",
       "      <td>681</td>\n",
       "      <td>G083440</td>\n",
       "      <td>2001-02-09 23:40:00</td>\n",
       "      <td>046XX S LAWLER AVE</td>\n",
       "      <td>0110</td>\n",
       "      <td>HOMICIDE</td>\n",
       "      <td>FIRST DEGREE MURDER</td>\n",
       "      <td>TRUCK</td>\n",
       "      <td>False</td>\n",
       "      <td>...</td>\n",
       "      <td>1873484.0</td>\n",
       "      <td>2001</td>\n",
       "      <td>09/01/2022 03:42:17 PM</td>\n",
       "      <td>41.808871</td>\n",
       "      <td>-87.749308</td>\n",
       "      <td>(41.808871048, -87.749307968)</td>\n",
       "      <td>POINT (-87.749307968 41.808871048)</td>\n",
       "      <td>Garfield Ridge</td>\n",
       "      <td>2001-02-09</td>\n",
       "      <td>23:40:00</td>\n",
       "    </tr>\n",
       "    <tr>\n",
       "      <th>90499</th>\n",
       "      <td>90499</td>\n",
       "      <td>714</td>\n",
       "      <td>G137655</td>\n",
       "      <td>2001-03-10 06:30:00</td>\n",
       "      <td>015XX W LAWRENCE AVE</td>\n",
       "      <td>0110</td>\n",
       "      <td>HOMICIDE</td>\n",
       "      <td>FIRST DEGREE MURDER</td>\n",
       "      <td>APARTMENT</td>\n",
       "      <td>True</td>\n",
       "      <td>...</td>\n",
       "      <td>1931956.0</td>\n",
       "      <td>2001</td>\n",
       "      <td>09/19/2022 03:41:05 PM</td>\n",
       "      <td>41.968890</td>\n",
       "      <td>-87.668043</td>\n",
       "      <td>(41.968890414, -87.668042567)</td>\n",
       "      <td>POINT (-87.668042567 41.968890414)</td>\n",
       "      <td>Uptown</td>\n",
       "      <td>2001-03-10</td>\n",
       "      <td>06:30:00</td>\n",
       "    </tr>\n",
       "  </tbody>\n",
       "</table>\n",
       "<p>5 rows × 27 columns</p>\n",
       "</div>"
      ],
      "text/plain": [
       "         index   ID Case Number                Date                 Block  \\\n",
       "100961  100961  650     G023235 2001-01-11 18:46:00    101XX S LASALLE ST   \n",
       "69208    69208  651     G023235 2001-01-11 21:10:00    101XX S LASALLE ST   \n",
       "95696    95696  682     G083440 2001-02-09 23:40:00    046XX S LAWLER AVE   \n",
       "131236  131236  681     G083440 2001-02-09 23:40:00    046XX S LAWLER AVE   \n",
       "90499    90499  714     G137655 2001-03-10 06:30:00  015XX W LAWRENCE AVE   \n",
       "\n",
       "        IUCR Primary Type          Description Location Description  Arrest  \\\n",
       "100961  0110     HOMICIDE  FIRST DEGREE MURDER               STREET    True   \n",
       "69208   0110     HOMICIDE  FIRST DEGREE MURDER               STREET    True   \n",
       "95696   0110     HOMICIDE  FIRST DEGREE MURDER                TRUCK   False   \n",
       "131236  0110     HOMICIDE  FIRST DEGREE MURDER                TRUCK   False   \n",
       "90499   0110     HOMICIDE  FIRST DEGREE MURDER            APARTMENT    True   \n",
       "\n",
       "        ...  Y Coordinate  Year              Updated On   Latitude  Longitude  \\\n",
       "100961  ...     1837772.0  2001  09/19/2022 03:41:05 PM  41.710181 -87.627189   \n",
       "69208   ...     1837772.0  2001  09/19/2022 03:41:05 PM  41.710181 -87.627189   \n",
       "95696   ...     1873484.0  2001  09/19/2022 03:41:05 PM  41.808871 -87.749308   \n",
       "131236  ...     1873484.0  2001  09/01/2022 03:42:17 PM  41.808871 -87.749308   \n",
       "90499   ...     1931956.0  2001  09/19/2022 03:41:05 PM  41.968890 -87.668043   \n",
       "\n",
       "                             Location                            geometry  \\\n",
       "100961  (41.710180828, -87.627189271)  POINT (-87.627189271 41.710180828)   \n",
       "69208   (41.710180828, -87.627189271)  POINT (-87.627189271 41.710180828)   \n",
       "95696   (41.808871048, -87.749307968)  POINT (-87.749307968 41.808871048)   \n",
       "131236  (41.808871048, -87.749307968)  POINT (-87.749307968 41.808871048)   \n",
       "90499   (41.968890414, -87.668042567)  POINT (-87.668042567 41.968890414)   \n",
       "\n",
       "        Community Area Name      F_Date      Time  \n",
       "100961             Roseland  2001-01-11  18:46:00  \n",
       "69208              Roseland  2001-01-11  21:10:00  \n",
       "95696        Garfield Ridge  2001-02-09  23:40:00  \n",
       "131236       Garfield Ridge  2001-02-09  23:40:00  \n",
       "90499                Uptown  2001-03-10  06:30:00  \n",
       "\n",
       "[5 rows x 27 columns]"
      ]
     },
     "execution_count": 66,
     "metadata": {},
     "output_type": "execute_result"
    }
   ],
   "source": [
    "# Case Number 기준으로 중복된 것들만 추출\n",
    "dupes = df[df.duplicated(subset=['Case Number'], keep=False)]\n",
    "\n",
    "# 중복된 것 중에서도 완전히 같은 행 제거 (즉, 값이 다른 애들만 남김)\n",
    "dupes_unique = dupes.drop_duplicates()\n",
    "\n",
    "# 같은 Case Number인데 다른 정보가 담긴 행들을 찾기\n",
    "diff_cases = dupes_unique.groupby('Case Number').filter(lambda x: len(x) > 1)\n",
    "\n",
    "# 상위 몇 개만 보기\n",
    "diff_cases.sort_values('Case Number').head()\n"
   ]
  },
  {
   "cell_type": "code",
   "execution_count": 67,
   "id": "9f9b8cd9-08f0-44ba-9846-919938e7ecf7",
   "metadata": {},
   "outputs": [
    {
     "name": "stdout",
     "output_type": "stream",
     "text": [
      "Empty DataFrame\n",
      "Columns: [index, ID, Case Number, Date, Block, IUCR, Primary Type, Description, Location Description, Arrest, Domestic, Beat, District, Ward, Community Area, FBI Code, X Coordinate, Y Coordinate, Year, Updated On, Latitude, Longitude, Location, geometry, Community Area Name, F_Date, Time]\n",
      "Index: []\n",
      "\n",
      "[0 rows x 27 columns]\n"
     ]
    }
   ],
   "source": [
    "# 1. Case Number 기준으로 중복된 행 추출\n",
    "dupes = df[df.duplicated(subset=['Case Number'], keep=False)]\n",
    "\n",
    "# 2. 동일한 Case Number 그룹 중, 사건 유형(Primary Type)이 2개 이상인 경우 필터링\n",
    "diff_type_cases = dupes.groupby('Case Number').filter(lambda x: x['Primary Type'].nunique() > 1)\n",
    "\n",
    "# 3. 결과 확인 (상위 10개만 보기)\n",
    "print(diff_type_cases.sort_values('Case Number').head(10))\n"
   ]
  },
  {
   "cell_type": "code",
   "execution_count": 68,
   "id": "7d71bfc8-801c-45af-84cb-1868acd6a919",
   "metadata": {},
   "outputs": [],
   "source": [
    "df_unique = df.drop_duplicates(subset=['Case Number'], keep='first', ignore_index=True)"
   ]
  },
  {
   "cell_type": "code",
   "execution_count": 56,
   "id": "514db9b7-8dc3-4027-a19b-f9450e89707e",
   "metadata": {},
   "outputs": [
    {
     "name": "stdout",
     "output_type": "stream",
     "text": [
      "Series([], Name: count, dtype: int64)\n"
     ]
    }
   ],
   "source": [
    "# 완전히 중복된 행만 추출\n",
    "dupes = df_cleaned[df_cleaned.duplicated()]\n",
    "\n",
    "# 연도 추출\n",
    "dupes['Year'] = dupes['Date'].dt.year\n",
    "\n",
    "# 연도별 중복 수 세기\n",
    "dupe_counts_by_year = dupes['Year'].value_counts().sort_index()\n",
    "\n",
    "# 결과 출력\n",
    "print(dupe_counts_by_year)\n"
   ]
  },
  {
   "cell_type": "code",
   "execution_count": 72,
   "id": "ba76d815-bc4f-45d4-afaa-268e2f04eef6",
   "metadata": {},
   "outputs": [
    {
     "name": "stdout",
     "output_type": "stream",
     "text": [
      "<class 'pandas.core.frame.DataFrame'>\n",
      "RangeIndex: 8187697 entries, 0 to 8187696\n",
      "Data columns (total 27 columns):\n",
      " #   Column                Dtype  \n",
      "---  ------                -----  \n",
      " 0   index                 int64  \n",
      " 1   ID                    int64  \n",
      " 2   Case Number           object \n",
      " 3   Date                  object \n",
      " 4   Block                 object \n",
      " 5   IUCR                  object \n",
      " 6   Primary Type          object \n",
      " 7   Description           object \n",
      " 8   Location Description  object \n",
      " 9   Arrest                bool   \n",
      " 10  Domestic              bool   \n",
      " 11  Beat                  int64  \n",
      " 12  District              float64\n",
      " 13  Ward                  float64\n",
      " 14  Community Area        float64\n",
      " 15  FBI Code              object \n",
      " 16  X Coordinate          float64\n",
      " 17  Y Coordinate          float64\n",
      " 18  Year                  int64  \n",
      " 19  Updated On            object \n",
      " 20  Latitude              float64\n",
      " 21  Longitude             float64\n",
      " 22  Location              object \n",
      " 23  geometry              object \n",
      " 24  Community Area Name   object \n",
      " 25  F_Date                object \n",
      " 26  Time                  object \n",
      "dtypes: bool(2), float64(7), int64(4), object(14)\n",
      "memory usage: 1.5+ GB\n"
     ]
    }
   ],
   "source": [
    "df_unique.info()"
   ]
  },
  {
   "cell_type": "code",
   "execution_count": 73,
   "id": "2413af55-1086-43e6-bd4a-edbd8569eedb",
   "metadata": {},
   "outputs": [],
   "source": [
    "df = df_unique.drop(columns=['index'])"
   ]
  },
  {
   "cell_type": "code",
   "execution_count": 74,
   "id": "d82000da-e10c-4658-8b66-e8e7751fa927",
   "metadata": {},
   "outputs": [
    {
     "name": "stdout",
     "output_type": "stream",
     "text": [
      "<class 'pandas.core.frame.DataFrame'>\n",
      "RangeIndex: 8187697 entries, 0 to 8187696\n",
      "Data columns (total 26 columns):\n",
      " #   Column                Dtype  \n",
      "---  ------                -----  \n",
      " 0   ID                    int64  \n",
      " 1   Case Number           object \n",
      " 2   Date                  object \n",
      " 3   Block                 object \n",
      " 4   IUCR                  object \n",
      " 5   Primary Type          object \n",
      " 6   Description           object \n",
      " 7   Location Description  object \n",
      " 8   Arrest                bool   \n",
      " 9   Domestic              bool   \n",
      " 10  Beat                  int64  \n",
      " 11  District              float64\n",
      " 12  Ward                  float64\n",
      " 13  Community Area        float64\n",
      " 14  FBI Code              object \n",
      " 15  X Coordinate          float64\n",
      " 16  Y Coordinate          float64\n",
      " 17  Year                  int64  \n",
      " 18  Updated On            object \n",
      " 19  Latitude              float64\n",
      " 20  Longitude             float64\n",
      " 21  Location              object \n",
      " 22  geometry              object \n",
      " 23  Community Area Name   object \n",
      " 24  F_Date                object \n",
      " 25  Time                  object \n",
      "dtypes: bool(2), float64(7), int64(3), object(14)\n",
      "memory usage: 1.5+ GB\n"
     ]
    }
   ],
   "source": [
    "df.info()"
   ]
  },
  {
   "cell_type": "code",
   "execution_count": null,
   "id": "ed1ffff8-ceb0-4b5f-a0bc-a337b29f6b93",
   "metadata": {},
   "outputs": [],
   "source": [
    "df.to_csv(\"crime_final1.csv\", index=False)"
   ]
  }
 ],
 "metadata": {
  "kernelspec": {
   "display_name": "Python 3 (ipykernel)",
   "language": "python",
   "name": "python3"
  },
  "language_info": {
   "codemirror_mode": {
    "name": "ipython",
    "version": 3
   },
   "file_extension": ".py",
   "mimetype": "text/x-python",
   "name": "python",
   "nbconvert_exporter": "python",
   "pygments_lexer": "ipython3",
   "version": "3.12.3"
  }
 },
 "nbformat": 4,
 "nbformat_minor": 5
}
